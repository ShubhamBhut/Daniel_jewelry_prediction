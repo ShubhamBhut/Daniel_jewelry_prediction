{
 "cells": [
  {
   "cell_type": "code",
   "execution_count": 2,
   "metadata": {},
   "outputs": [
    {
     "name": "stdout",
     "output_type": "stream",
     "text": [
      "                  input_sequences  output\n",
      "0  [4, 1, 7, 8, 5, 9, 2, 2, 6, 6]       4\n",
      "1  [1, 7, 8, 5, 9, 2, 2, 6, 6, 4]       1\n",
      "2  [7, 8, 5, 9, 2, 2, 6, 6, 4, 1]       7\n",
      "3  [8, 5, 9, 2, 2, 6, 6, 4, 1, 7]       8\n",
      "4  [5, 9, 2, 2, 6, 6, 4, 1, 7, 8]       5\n"
     ]
    }
   ],
   "source": [
    "import pandas as pd\n",
    "\n",
    "df1 = pd.read_csv('output.csv')\n",
    "members = df1['number']\n",
    "\n",
    "\n",
    "df = pd.DataFrame({'members': members})\n",
    "\n",
    "input_sequences = []\n",
    "outputs = []\n",
    "\n",
    "# Create input sequences and outputs\n",
    "for i in range(len(df) - 10):\n",
    "    input_seq = df['members'][i:i + 10].tolist()  # Get the last 10 members as input\n",
    "    output = df['members'][i + 10]  # Get the 11th member as output\n",
    "    input_sequences.append(input_seq)\n",
    "    outputs.append(output)\n",
    "\n",
    "data = pd.DataFrame({'input_sequences': input_sequences, 'output': outputs})\n",
    "\n",
    "print(data.head())"
   ]
  },
  {
   "cell_type": "code",
   "execution_count": 6,
   "metadata": {},
   "outputs": [
    {
     "data": {
      "text/plain": [
       "(1240, 1)"
      ]
     },
     "execution_count": 6,
     "metadata": {},
     "output_type": "execute_result"
    }
   ],
   "source": [
    "df.shape"
   ]
  },
  {
   "cell_type": "code",
   "execution_count": 4,
   "metadata": {},
   "outputs": [],
   "source": [
    "import numpy as np\n",
    "from sklearn.model_selection import train_test_split\n",
    "\n",
    "input_sequences = np.array(input_sequences)\n",
    "outputs = np.array(outputs)\n",
    "\n",
    "input_sequences_reshaped = input_sequences.reshape(input_sequences.shape[0], 10, 1)\n",
    "\n",
    "X_train, X_test, y_train, y_test = train_test_split(input_sequences_reshaped, outputs, test_size=0.2, random_state=42)"
   ]
  },
  {
   "cell_type": "code",
   "execution_count": 7,
   "metadata": {},
   "outputs": [
    {
     "data": {
      "text/plain": [
       "array([[[7],\n",
       "        [7],\n",
       "        [4],\n",
       "        ...,\n",
       "        [8],\n",
       "        [4],\n",
       "        [4]],\n",
       "\n",
       "       [[7],\n",
       "        [1],\n",
       "        [3],\n",
       "        ...,\n",
       "        [8],\n",
       "        [9],\n",
       "        [9]],\n",
       "\n",
       "       [[8],\n",
       "        [3],\n",
       "        [8],\n",
       "        ...,\n",
       "        [6],\n",
       "        [3],\n",
       "        [6]],\n",
       "\n",
       "       ...,\n",
       "\n",
       "       [[3],\n",
       "        [8],\n",
       "        [7],\n",
       "        ...,\n",
       "        [8],\n",
       "        [8],\n",
       "        [1]],\n",
       "\n",
       "       [[3],\n",
       "        [3],\n",
       "        [3],\n",
       "        ...,\n",
       "        [9],\n",
       "        [7],\n",
       "        [8]],\n",
       "\n",
       "       [[6],\n",
       "        [4],\n",
       "        [9],\n",
       "        ...,\n",
       "        [1],\n",
       "        [3],\n",
       "        [6]]])"
      ]
     },
     "execution_count": 7,
     "metadata": {},
     "output_type": "execute_result"
    }
   ],
   "source": [
    "X_train"
   ]
  },
  {
   "cell_type": "code",
   "execution_count": 5,
   "metadata": {},
   "outputs": [
    {
     "ename": "ValueError",
     "evalue": "Must pass 2-d input. shape=(984, 10, 1)",
     "output_type": "error",
     "traceback": [
      "\u001b[1;31m---------------------------------------------------------------------------\u001b[0m",
      "\u001b[1;31mValueError\u001b[0m                                Traceback (most recent call last)",
      "\u001b[1;32mc:\\Users\\shubh\\OneDrive\\Documents\\Programming\\Python\\daniel\\prediction.ipynb Cell 4\u001b[0m line \u001b[0;36m5\n\u001b[0;32m      <a href='vscode-notebook-cell:/c%3A/Users/shubh/OneDrive/Documents/Programming/Python/daniel/prediction.ipynb#W3sZmlsZQ%3D%3D?line=1'>2</a>\u001b[0m \u001b[39mfrom\u001b[39;00m \u001b[39mlazypredict\u001b[39;00m\u001b[39m.\u001b[39;00m\u001b[39mSupervised\u001b[39;00m \u001b[39mimport\u001b[39;00m LazyRegressor\n\u001b[0;32m      <a href='vscode-notebook-cell:/c%3A/Users/shubh/OneDrive/Documents/Programming/Python/daniel/prediction.ipynb#W3sZmlsZQ%3D%3D?line=3'>4</a>\u001b[0m clf \u001b[39m=\u001b[39m LazyRegressor(verbose\u001b[39m=\u001b[39m\u001b[39m0\u001b[39m, ignore_warnings\u001b[39m=\u001b[39m\u001b[39mTrue\u001b[39;00m)\n\u001b[1;32m----> <a href='vscode-notebook-cell:/c%3A/Users/shubh/OneDrive/Documents/Programming/Python/daniel/prediction.ipynb#W3sZmlsZQ%3D%3D?line=4'>5</a>\u001b[0m models, predictions \u001b[39m=\u001b[39m clf\u001b[39m.\u001b[39;49mfit(X_train, X_test, y_train, y_test)\n\u001b[0;32m      <a href='vscode-notebook-cell:/c%3A/Users/shubh/OneDrive/Documents/Programming/Python/daniel/prediction.ipynb#W3sZmlsZQ%3D%3D?line=5'>6</a>\u001b[0m models\n",
      "File \u001b[1;32mc:\\Users\\shubh\\AppData\\Local\\Programs\\Python\\Python311\\Lib\\site-packages\\lazypredict\\Supervised.py:557\u001b[0m, in \u001b[0;36mLazyRegressor.fit\u001b[1;34m(self, X_train, X_test, y_train, y_test)\u001b[0m\n\u001b[0;32m    554\u001b[0m     CUSTOM_METRIC \u001b[39m=\u001b[39m []\n\u001b[0;32m    556\u001b[0m \u001b[39mif\u001b[39;00m \u001b[39misinstance\u001b[39m(X_train, np\u001b[39m.\u001b[39mndarray):\n\u001b[1;32m--> 557\u001b[0m     X_train \u001b[39m=\u001b[39m pd\u001b[39m.\u001b[39;49mDataFrame(X_train)\n\u001b[0;32m    558\u001b[0m     X_test \u001b[39m=\u001b[39m pd\u001b[39m.\u001b[39mDataFrame(X_test)\n\u001b[0;32m    560\u001b[0m numeric_features \u001b[39m=\u001b[39m X_train\u001b[39m.\u001b[39mselect_dtypes(include\u001b[39m=\u001b[39m[np\u001b[39m.\u001b[39mnumber])\u001b[39m.\u001b[39mcolumns\n",
      "File \u001b[1;32mc:\\Users\\shubh\\AppData\\Local\\Programs\\Python\\Python311\\Lib\\site-packages\\pandas\\core\\frame.py:758\u001b[0m, in \u001b[0;36mDataFrame.__init__\u001b[1;34m(self, data, index, columns, dtype, copy)\u001b[0m\n\u001b[0;32m    747\u001b[0m         mgr \u001b[39m=\u001b[39m dict_to_mgr(\n\u001b[0;32m    748\u001b[0m             \u001b[39m# error: Item \"ndarray\" of \"Union[ndarray, Series, Index]\" has no\u001b[39;00m\n\u001b[0;32m    749\u001b[0m             \u001b[39m# attribute \"name\"\u001b[39;00m\n\u001b[1;32m   (...)\u001b[0m\n\u001b[0;32m    755\u001b[0m             copy\u001b[39m=\u001b[39m_copy,\n\u001b[0;32m    756\u001b[0m         )\n\u001b[0;32m    757\u001b[0m     \u001b[39melse\u001b[39;00m:\n\u001b[1;32m--> 758\u001b[0m         mgr \u001b[39m=\u001b[39m ndarray_to_mgr(\n\u001b[0;32m    759\u001b[0m             data,\n\u001b[0;32m    760\u001b[0m             index,\n\u001b[0;32m    761\u001b[0m             columns,\n\u001b[0;32m    762\u001b[0m             dtype\u001b[39m=\u001b[39;49mdtype,\n\u001b[0;32m    763\u001b[0m             copy\u001b[39m=\u001b[39;49mcopy,\n\u001b[0;32m    764\u001b[0m             typ\u001b[39m=\u001b[39;49mmanager,\n\u001b[0;32m    765\u001b[0m         )\n\u001b[0;32m    767\u001b[0m \u001b[39m# For data is list-like, or Iterable (will consume into list)\u001b[39;00m\n\u001b[0;32m    768\u001b[0m \u001b[39melif\u001b[39;00m is_list_like(data):\n",
      "File \u001b[1;32mc:\\Users\\shubh\\AppData\\Local\\Programs\\Python\\Python311\\Lib\\site-packages\\pandas\\core\\internals\\construction.py:315\u001b[0m, in \u001b[0;36mndarray_to_mgr\u001b[1;34m(values, index, columns, dtype, copy, typ)\u001b[0m\n\u001b[0;32m    309\u001b[0m     _copy \u001b[39m=\u001b[39m (\n\u001b[0;32m    310\u001b[0m         copy_on_sanitize\n\u001b[0;32m    311\u001b[0m         \u001b[39mif\u001b[39;00m (dtype \u001b[39mis\u001b[39;00m \u001b[39mNone\u001b[39;00m \u001b[39mor\u001b[39;00m astype_is_view(values\u001b[39m.\u001b[39mdtype, dtype))\n\u001b[0;32m    312\u001b[0m         \u001b[39melse\u001b[39;00m \u001b[39mFalse\u001b[39;00m\n\u001b[0;32m    313\u001b[0m     )\n\u001b[0;32m    314\u001b[0m     values \u001b[39m=\u001b[39m np\u001b[39m.\u001b[39marray(values, copy\u001b[39m=\u001b[39m_copy)\n\u001b[1;32m--> 315\u001b[0m     values \u001b[39m=\u001b[39m _ensure_2d(values)\n\u001b[0;32m    317\u001b[0m \u001b[39melse\u001b[39;00m:\n\u001b[0;32m    318\u001b[0m     \u001b[39m# by definition an array here\u001b[39;00m\n\u001b[0;32m    319\u001b[0m     \u001b[39m# the dtypes will be coerced to a single dtype\u001b[39;00m\n\u001b[0;32m    320\u001b[0m     values \u001b[39m=\u001b[39m _prep_ndarraylike(values, copy\u001b[39m=\u001b[39mcopy_on_sanitize)\n",
      "File \u001b[1;32mc:\\Users\\shubh\\AppData\\Local\\Programs\\Python\\Python311\\Lib\\site-packages\\pandas\\core\\internals\\construction.py:570\u001b[0m, in \u001b[0;36m_ensure_2d\u001b[1;34m(values)\u001b[0m\n\u001b[0;32m    568\u001b[0m     values \u001b[39m=\u001b[39m values\u001b[39m.\u001b[39mreshape((values\u001b[39m.\u001b[39mshape[\u001b[39m0\u001b[39m], \u001b[39m1\u001b[39m))\n\u001b[0;32m    569\u001b[0m \u001b[39melif\u001b[39;00m values\u001b[39m.\u001b[39mndim \u001b[39m!=\u001b[39m \u001b[39m2\u001b[39m:\n\u001b[1;32m--> 570\u001b[0m     \u001b[39mraise\u001b[39;00m \u001b[39mValueError\u001b[39;00m(\u001b[39mf\u001b[39m\u001b[39m\"\u001b[39m\u001b[39mMust pass 2-d input. shape=\u001b[39m\u001b[39m{\u001b[39;00mvalues\u001b[39m.\u001b[39mshape\u001b[39m}\u001b[39;00m\u001b[39m\"\u001b[39m)\n\u001b[0;32m    571\u001b[0m \u001b[39mreturn\u001b[39;00m values\n",
      "\u001b[1;31mValueError\u001b[0m: Must pass 2-d input. shape=(984, 10, 1)"
     ]
    }
   ],
   "source": [
    "from lazypredict.Supervised import LazyRegressor\n",
    "\n",
    "clf = LazyRegressor(verbose=0, ignore_warnings=True)\n",
    "models, predictions = clf.fit(X_train, X_test, y_train, y_test)\n",
    "models"
   ]
  },
  {
   "cell_type": "code",
   "execution_count": null,
   "metadata": {},
   "outputs": [],
   "source": []
  }
 ],
 "metadata": {
  "kernelspec": {
   "display_name": "Python 3",
   "language": "python",
   "name": "python3"
  },
  "language_info": {
   "codemirror_mode": {
    "name": "ipython",
    "version": 3
   },
   "file_extension": ".py",
   "mimetype": "text/x-python",
   "name": "python",
   "nbconvert_exporter": "python",
   "pygments_lexer": "ipython3",
   "version": "3.11.0"
  },
  "orig_nbformat": 4
 },
 "nbformat": 4,
 "nbformat_minor": 2
}
